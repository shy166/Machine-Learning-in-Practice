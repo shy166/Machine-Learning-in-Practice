{
 "cells": [
  {
   "cell_type": "code",
   "execution_count": 1,
   "metadata": {},
   "outputs": [],
   "source": [
    "import numpy as np\n",
    "import pandas as pd\n",
    "from sklearn.feature_extraction.text import CountVectorizer"
   ]
  },
  {
   "cell_type": "code",
   "execution_count": 2,
   "metadata": {},
   "outputs": [],
   "source": [
    "train = pd.read_csv('pa4train.txt',delimiter = ' ', header = None)\n",
    "test = pd.read_csv('pa4test.txt', delimiter = ' ', header = None)\n",
    "X_train = train[0]\n",
    "y_train = train[1]\n",
    "X_test = test[0]\n",
    "y_test = test[1]"
   ]
  },
  {
   "cell_type": "markdown",
   "metadata": {},
   "source": [
    "# Question 1"
   ]
  },
  {
   "cell_type": "code",
   "execution_count": 3,
   "metadata": {},
   "outputs": [],
   "source": [
    "class stringKernel():\n",
    "    def __init__(self, p = 2, t = 1):\n",
    "        self.passes = t\n",
    "        self.p = p\n",
    "    def fit(self, X, y):\n",
    "        self.phi = self._matrix(X)\n",
    "        self.ind = [0]\n",
    "        self.x = X\n",
    "        self.y = y\n",
    "        for _ in range(self.passes):\n",
    "            for i in range(1, X.shape[0]):\n",
    "                if y.iloc[i] * (y.iloc[self.ind] .dot(self.phi[i,:].dot(self.phi[self.ind].T).T.toarray())) <= 0:\n",
    "                    self.ind += [i]\n",
    "    def predict(self, X):\n",
    "        joint_X = self.x.append(X)\n",
    "        self.phi_pred = self._matrix(joint_X)\n",
    "        inner_mat = self.phi_pred[self.ind].dot(self.phi_pred[-len(X):,:].T)\n",
    "        return pd.Series(self.y.iloc[self.ind].dot(inner_mat.toarray()), index = X.index)\\\n",
    "                            .apply(lambda x: np.sign(x) if x != 0 else np.random.choice([-1,1]))\n",
    "    def score(self, X, y):\n",
    "        return (self.predict(X) == y.values).mean()\n",
    "        \n",
    "    \n",
    "    def _matrix(self, X):\n",
    "        p = self.p\n",
    "        v = lambda x: ' '.join([x[i:i+p] for i in range(len(x) - p + 1)])\n",
    "        vectorizer = CountVectorizer()\n",
    "        return vectorizer.fit_transform(X.apply(v))"
   ]
  },
  {
   "cell_type": "code",
   "execution_count": 4,
   "metadata": {},
   "outputs": [
    {
     "data": {
      "text/plain": [
       "0.07134986225895312"
      ]
     },
     "execution_count": 4,
     "metadata": {},
     "output_type": "execute_result"
    }
   ],
   "source": [
    "Kernel = stringKernel(p = 2, t = 1)\n",
    "Kernel.fit(X_train, y_train)\n",
    "1 - Kernel.score(X_train, y_train)"
   ]
  },
  {
   "cell_type": "code",
   "execution_count": 5,
   "metadata": {},
   "outputs": [],
   "source": [
    "Kernel = stringKernel(p = 3, t = 1)\n",
    "Kernel.fit(X_train, y_train)\n",
    "result_train3 = 1 - Kernel.score(X_train, y_train)\n",
    "result_test3 = 1 - Kernel.score(X_test, y_test)"
   ]
  },
  {
   "cell_type": "code",
   "execution_count": 6,
   "metadata": {},
   "outputs": [],
   "source": [
    "Kernel = stringKernel(p = 4, t = 1)\n",
    "Kernel.fit(X_train, y_train)\n",
    "result_train4 = 1 - Kernel.score(X_train, y_train)\n",
    "result_test4 = 1 - Kernel.score(X_test, y_test)"
   ]
  },
  {
   "cell_type": "code",
   "execution_count": 7,
   "metadata": {},
   "outputs": [],
   "source": [
    "Kernel = stringKernel(p = 5, t = 1)\n",
    "Kernel.fit(X_train, y_train)\n",
    "result_train5 = 1 - Kernel.score(X_train, y_train)\n",
    "result_test5 = 1 - Kernel.score(X_test, y_test)"
   ]
  },
  {
   "cell_type": "code",
   "execution_count": 8,
   "metadata": {},
   "outputs": [
    {
     "data": {
      "text/html": [
       "<div>\n",
       "<style scoped>\n",
       "    .dataframe tbody tr th:only-of-type {\n",
       "        vertical-align: middle;\n",
       "    }\n",
       "\n",
       "    .dataframe tbody tr th {\n",
       "        vertical-align: top;\n",
       "    }\n",
       "\n",
       "    .dataframe thead th {\n",
       "        text-align: right;\n",
       "    }\n",
       "</style>\n",
       "<table border=\"1\" class=\"dataframe\">\n",
       "  <thead>\n",
       "    <tr style=\"text-align: right;\">\n",
       "      <th></th>\n",
       "      <th>training_err</th>\n",
       "      <th>testing_err</th>\n",
       "    </tr>\n",
       "  </thead>\n",
       "  <tbody>\n",
       "    <tr>\n",
       "      <th>3</th>\n",
       "      <td>0.013223</td>\n",
       "      <td>0.040897</td>\n",
       "    </tr>\n",
       "    <tr>\n",
       "      <th>4</th>\n",
       "      <td>0.007713</td>\n",
       "      <td>0.027704</td>\n",
       "    </tr>\n",
       "    <tr>\n",
       "      <th>5</th>\n",
       "      <td>0.006336</td>\n",
       "      <td>0.048813</td>\n",
       "    </tr>\n",
       "  </tbody>\n",
       "</table>\n",
       "</div>"
      ],
      "text/plain": [
       "   training_err  testing_err\n",
       "3      0.013223     0.040897\n",
       "4      0.007713     0.027704\n",
       "5      0.006336     0.048813"
      ]
     },
     "metadata": {},
     "output_type": "display_data"
    }
   ],
   "source": [
    "display(pd.DataFrame(\n",
    "        {\n",
    "            'training_err': [result_train3,result_train4,result_train5],\n",
    "            'testing_err': [result_test3, result_test4, result_test5]\n",
    "        }, index = range(3,6)\n",
    "))"
   ]
  },
  {
   "cell_type": "markdown",
   "metadata": {},
   "source": [
    "# Question 2"
   ]
  },
  {
   "cell_type": "code",
   "execution_count": 9,
   "metadata": {},
   "outputs": [],
   "source": [
    "class stringKernel_modified():\n",
    "    def __init__(self, p = 2, t = 1):\n",
    "        self.passes = t\n",
    "        self.p = p\n",
    "    def fit(self, X, y):\n",
    "        self.phi = (self._matrix(X) > 0).astype(int)\n",
    "        self.ind = [0]\n",
    "        self.x = X\n",
    "        self.y = y\n",
    "        for _ in range(self.passes):\n",
    "            for i in range(1, X.shape[0]):\n",
    "                if y.iloc[i] * (y.iloc[self.ind]\\\n",
    "                        .dot((self.phi[i,:].dot(self.phi[self.ind].T).T.toarray()))) <= 0:\n",
    "                    self.ind += [i]\n",
    "                    \n",
    "                    \n",
    "                \n",
    "    def predict(self, X):\n",
    "        joint_X = self.x.append(X)\n",
    "        self.phi_pred = (self._matrix(joint_X) > 0).astype(int)\n",
    "        inner_mat = self.phi_pred[self.ind].dot(self.phi_pred[-len(X):,:].T).toarray()\n",
    "        return pd.Series(self.y.iloc[self.ind].dot(inner_mat), index = X.index)\\\n",
    "                            .apply(lambda x: np.sign(x) if x != 0 else np.random.choice([-1,1]))\n",
    "    def score(self, X, y):\n",
    "        return (self.predict(X) == y.values).mean()\n",
    "        \n",
    "    \n",
    "    def _matrix(self, X):\n",
    "        p = self.p\n",
    "        v = lambda x: ' '.join([x[i:i+p] for i in range(len(x) - p + 1)])\n",
    "        vectorizer = CountVectorizer()\n",
    "        return vectorizer.fit_transform(X.apply(v))"
   ]
  },
  {
   "cell_type": "code",
   "execution_count": 10,
   "metadata": {},
   "outputs": [],
   "source": [
    "Kernel = stringKernel_modified(p = 3, t = 1)\n",
    "Kernel.fit(X_train, y_train)\n",
    "result_train3 = 1 - Kernel.score(X_train, y_train)\n",
    "result_test3 = 1 - Kernel.score(X_test, y_test)"
   ]
  },
  {
   "cell_type": "code",
   "execution_count": 11,
   "metadata": {},
   "outputs": [],
   "source": [
    "Kernel = stringKernel_modified(p = 4, t = 1)\n",
    "Kernel.fit(X_train, y_train)\n",
    "result_train4 = 1 - Kernel.score(X_train, y_train)\n",
    "result_test4 = 1 - Kernel.score(X_test, y_test)"
   ]
  },
  {
   "cell_type": "code",
   "execution_count": 12,
   "metadata": {},
   "outputs": [],
   "source": [
    "Kernel = stringKernel_modified(p = 5, t = 1)\n",
    "Kernel.fit(X_train, y_train)\n",
    "result_train5 = 1 - Kernel.score(X_train, y_train)\n",
    "result_test5 = 1 - Kernel.score(X_test, y_test)"
   ]
  },
  {
   "cell_type": "code",
   "execution_count": 13,
   "metadata": {},
   "outputs": [
    {
     "data": {
      "text/html": [
       "<div>\n",
       "<style scoped>\n",
       "    .dataframe tbody tr th:only-of-type {\n",
       "        vertical-align: middle;\n",
       "    }\n",
       "\n",
       "    .dataframe tbody tr th {\n",
       "        vertical-align: top;\n",
       "    }\n",
       "\n",
       "    .dataframe thead th {\n",
       "        text-align: right;\n",
       "    }\n",
       "</style>\n",
       "<table border=\"1\" class=\"dataframe\">\n",
       "  <thead>\n",
       "    <tr style=\"text-align: right;\">\n",
       "      <th></th>\n",
       "      <th>training_err</th>\n",
       "      <th>testing_err</th>\n",
       "    </tr>\n",
       "  </thead>\n",
       "  <tbody>\n",
       "    <tr>\n",
       "      <th>3</th>\n",
       "      <td>0.012397</td>\n",
       "      <td>0.054090</td>\n",
       "    </tr>\n",
       "    <tr>\n",
       "      <th>4</th>\n",
       "      <td>0.008540</td>\n",
       "      <td>0.030343</td>\n",
       "    </tr>\n",
       "    <tr>\n",
       "      <th>5</th>\n",
       "      <td>0.007438</td>\n",
       "      <td>0.044855</td>\n",
       "    </tr>\n",
       "  </tbody>\n",
       "</table>\n",
       "</div>"
      ],
      "text/plain": [
       "   training_err  testing_err\n",
       "3      0.012397     0.054090\n",
       "4      0.008540     0.030343\n",
       "5      0.007438     0.044855"
      ]
     },
     "metadata": {},
     "output_type": "display_data"
    }
   ],
   "source": [
    "display(pd.DataFrame(\n",
    "        {\n",
    "            'training_err': [result_train3,result_train4,result_train5],\n",
    "            'testing_err': [result_test3, result_test4, result_test5]\n",
    "        }, index = range(3,6)\n",
    "))"
   ]
  },
  {
   "cell_type": "markdown",
   "metadata": {},
   "source": [
    "# Question 3"
   ]
  },
  {
   "cell_type": "code",
   "execution_count": 14,
   "metadata": {},
   "outputs": [],
   "source": [
    "Kernel = stringKernel(p = 5, t = 1)\n",
    "Kernel.fit(X_train, y_train)"
   ]
  },
  {
   "cell_type": "code",
   "execution_count": 15,
   "metadata": {},
   "outputs": [],
   "source": [
    "alpha = np.zeros_like(y_train)\n",
    "alpha[Kernel.ind]=1\n",
    "weight_sorted = np.sort((alpha * (y_train)).values * (Kernel.phi))"
   ]
  },
  {
   "cell_type": "code",
   "execution_count": 16,
   "metadata": {},
   "outputs": [
    {
     "data": {
      "text/plain": [
       "array([2, 2, 2, 2, 2, 3, 3, 3, 3, 3], dtype=int64)"
      ]
     },
     "execution_count": 16,
     "metadata": {},
     "output_type": "execute_result"
    }
   ],
   "source": [
    "weight_sorted[-10:]"
   ]
  },
  {
   "cell_type": "markdown",
   "metadata": {},
   "source": [
    "We observe that there are five substring weights in tie"
   ]
  },
  {
   "cell_type": "code",
   "execution_count": 17,
   "metadata": {},
   "outputs": [],
   "source": [
    "inx = np.argsort((alpha * (y_train)).values * (Kernel.phi))[-5:]"
   ]
  },
  {
   "cell_type": "code",
   "execution_count": 18,
   "metadata": {},
   "outputs": [],
   "source": [
    "def _matrix(X, p = 5):\n",
    "    v = lambda x: ' '.join([x[i:i+p] for i in range(len(x) - p + 1)])\n",
    "    vectorizer = CountVectorizer()\n",
    "    vectorizer.fit(X.apply(v))\n",
    "    return vectorizer"
   ]
  },
  {
   "cell_type": "code",
   "execution_count": 19,
   "metadata": {},
   "outputs": [],
   "source": [
    "vect = _matrix(X_train, 5)"
   ]
  },
  {
   "cell_type": "code",
   "execution_count": 20,
   "metadata": {},
   "outputs": [
    {
     "data": {
      "text/plain": [
       "<3630x327227 sparse matrix of type '<class 'numpy.int64'>'\n",
       "\twith 0 stored elements in Compressed Sparse Row format>"
      ]
     },
     "execution_count": 20,
     "metadata": {},
     "output_type": "execute_result"
    }
   ],
   "source": [
    "vect.transform(X_train)"
   ]
  },
  {
   "cell_type": "code",
   "execution_count": 21,
   "metadata": {},
   "outputs": [],
   "source": [
    "substrings = np.array(vect.get_feature_names())[inx]"
   ]
  },
  {
   "cell_type": "code",
   "execution_count": 22,
   "metadata": {},
   "outputs": [],
   "source": [
    "substrings = [i.upper() for i in substrings]"
   ]
  },
  {
   "cell_type": "code",
   "execution_count": 23,
   "metadata": {},
   "outputs": [
    {
     "data": {
      "text/plain": [
       "['WDTAG', 'LFLNK', 'DTAGQ', 'GKSSL', 'KVGPD']"
      ]
     },
     "execution_count": 23,
     "metadata": {},
     "output_type": "execute_result"
    }
   ],
   "source": [
    "substrings"
   ]
  },
  {
   "cell_type": "markdown",
   "metadata": {},
   "source": [
    "Five substrings tie in to the first place: 'WDTAG', 'LFLNK', 'DTAGQ', 'GKSSL', 'KVGPD'"
   ]
  }
 ],
 "metadata": {
  "kernelspec": {
   "display_name": "Python 3",
   "language": "python",
   "name": "python3"
  },
  "language_info": {
   "codemirror_mode": {
    "name": "ipython",
    "version": 3
   },
   "file_extension": ".py",
   "mimetype": "text/x-python",
   "name": "python",
   "nbconvert_exporter": "python",
   "pygments_lexer": "ipython3",
   "version": "3.7.3"
  }
 },
 "nbformat": 4,
 "nbformat_minor": 2
}
