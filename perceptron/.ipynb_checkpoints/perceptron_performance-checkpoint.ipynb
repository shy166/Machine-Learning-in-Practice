{
 "cells": [
  {
   "cell_type": "code",
   "execution_count": 1,
   "metadata": {},
   "outputs": [],
   "source": [
    "import numpy as np\n",
    "import pandas as pd"
   ]
  },
  {
   "cell_type": "code",
   "execution_count": 2,
   "metadata": {},
   "outputs": [],
   "source": [
    "train = np.loadtxt('pa3train.txt')\n",
    "test = np.loadtxt('pa3test.txt')\n",
    "dictionary = pd.read_csv('pa3dictionary.txt', header = None)[0].tolist()\n",
    "train = pd.DataFrame(train, columns = dictionary + ['Target'])\n",
    "test = pd.DataFrame(test, columns = dictionary + ['Target'])"
   ]
  },
  {
   "cell_type": "code",
   "execution_count": 3,
   "metadata": {},
   "outputs": [],
   "source": [
    "train_1_2 = train[(train['Target']==1) | (train['Target']==2)]\n",
    "test_1_2 = test[(test['Target']==1) | (test['Target']==2)]"
   ]
  },
  {
   "cell_type": "code",
   "execution_count": 4,
   "metadata": {},
   "outputs": [],
   "source": [
    "X_train = train.iloc[:, :-1]\n",
    "y_train = train.iloc[:, -1]\n",
    "X_test = test.iloc[:, :-1]\n",
    "y_test = test.iloc[:, -1]\n",
    "X_train_1_2 = train_1_2.iloc[:, :-1]\n",
    "y_train_1_2 = train_1_2.iloc[:, -1]\n",
    "X_test_1_2 = test_1_2.iloc[:, :-1]\n",
    "y_test_1_2 = test_1_2.iloc[:, -1]"
   ]
  },
  {
   "cell_type": "code",
   "execution_count": 5,
   "metadata": {},
   "outputs": [],
   "source": [
    "class Perceptron():\n",
    "    def __init__(self, iterations = 1, kind = 'perceptron'):\n",
    "        self.w = None\n",
    "        self.classes = None\n",
    "        self.iterations = iterations\n",
    "        self.kind = kind\n",
    "        self.cm = None\n",
    "        \n",
    "    def fit(self, X, y):\n",
    "        self.classes = sorted(np.unique(y))\n",
    "        c = self.classes[0]\n",
    "        yi = y.apply(lambda x: 1 if x == c else -1)\n",
    "        if self.kind == 'perceptron':\n",
    "            self.w = np.zeros(X.shape[1])\n",
    "            for _ in range(self.iterations):\n",
    "                for i in range(X.shape[0]):\n",
    "                    if yi.iloc[i] * (self.w.dot(X.iloc[i])) <= 0:\n",
    "                        self.w = self.w + yi.iloc[i] * X.iloc[i]\n",
    "\n",
    "        elif self.kind == 'voted' or self.kind == 'average':\n",
    "            cm = 1\n",
    "            w = np.zeros_like(X.iloc[0])\n",
    "            w_list = [(w,cm)]\n",
    "\n",
    "            for _ in range(self.iterations):\n",
    "                for t in range(X.shape[0]):\n",
    "                    if yi.iloc[t]*w.dot(X.iloc[t])<=0:\n",
    "                        w_list.append((w,cm))\n",
    "\n",
    "                        w = w+yi.iloc[t]*X.iloc[t]\n",
    "                        cm = 1\n",
    "                    else:\n",
    "                        cm +=1\n",
    "\n",
    "            self.w = w_list\n",
    "            \n",
    "                \n",
    "                        \n",
    "                    \n",
    "    def predict(self, X):\n",
    "        if self.kind == 'perceptron':\n",
    "            return pd.Series(self.w.dot(X.T), index = X.index)\\\n",
    "                        .apply(lambda x: self.classes[0] if x >= 0 else self.classes[1])\n",
    "        elif self.kind == 'voted':\n",
    "            pred = 0\n",
    "    \n",
    "            for i in range(len(self.w)):\n",
    "                w,c = self.w[i]\n",
    "                pred += c*np.sign(X.dot(w))\n",
    "\n",
    "            return pd.Series(np.sign(pred), index = X.index)\\\n",
    "                        .apply(lambda x: self.classes[0] if x >= 0 else self.classes[1])\n",
    "        \n",
    "        elif self.kind == 'average':\n",
    "            pred = 0\n",
    "    \n",
    "            for i in range(len(self.w)):\n",
    "                w,c = self.w[i]\n",
    "                pred += X.dot(c*w)\n",
    "\n",
    "            return pd.Series(np.sign(pred), index = X.index)\\\n",
    "                        .apply(lambda x: self.classes[0] if x >= 0 else self.classes[1])\n",
    "            \n",
    "                \n",
    "    def score(self, X, y):\n",
    "        return (self.predict(X) == y.values).mean()"
   ]
  },
  {
   "cell_type": "markdown",
   "metadata": {},
   "source": [
    "# Question 1"
   ]
  },
  {
   "cell_type": "code",
   "execution_count": 6,
   "metadata": {},
   "outputs": [],
   "source": [
    "output = pd.DataFrame()\n",
    "for j in ['perceptron', 'voted', 'average']:\n",
    "    train_err = []\n",
    "    test_err = []\n",
    "    for i in range(1, 5):\n",
    "        clf = Perceptron(i, j)\n",
    "        clf.fit(X_train_1_2, y_train_1_2)\n",
    "        train_err += [1 - clf.score(X_train_1_2, y_train_1_2)]\n",
    "        test_err += [1 - clf.score(X_test_1_2, y_test_1_2)]\n",
    "    output[j,'training_error'] = train_err\n",
    "    output[j,'test_error'] = test_err\n",
    "output.index = range(1,5)\n",
    "output.index.name = 'passes'"
   ]
  },
  {
   "cell_type": "code",
   "execution_count": 7,
   "metadata": {
    "scrolled": true
   },
   "outputs": [
    {
     "data": {
      "text/html": [
       "<div>\n",
       "<style scoped>\n",
       "    .dataframe tbody tr th:only-of-type {\n",
       "        vertical-align: middle;\n",
       "    }\n",
       "\n",
       "    .dataframe tbody tr th {\n",
       "        vertical-align: top;\n",
       "    }\n",
       "\n",
       "    .dataframe thead th {\n",
       "        text-align: right;\n",
       "    }\n",
       "</style>\n",
       "<table border=\"1\" class=\"dataframe\">\n",
       "  <thead>\n",
       "    <tr style=\"text-align: right;\">\n",
       "      <th></th>\n",
       "      <th>(perceptron, training_error)</th>\n",
       "      <th>(perceptron, test_error)</th>\n",
       "      <th>(voted, training_error)</th>\n",
       "      <th>(voted, test_error)</th>\n",
       "      <th>(average, training_error)</th>\n",
       "      <th>(average, test_error)</th>\n",
       "    </tr>\n",
       "    <tr>\n",
       "      <th>passes</th>\n",
       "      <th></th>\n",
       "      <th></th>\n",
       "      <th></th>\n",
       "      <th></th>\n",
       "      <th></th>\n",
       "      <th></th>\n",
       "    </tr>\n",
       "  </thead>\n",
       "  <tbody>\n",
       "    <tr>\n",
       "      <th>1</th>\n",
       "      <td>0.038532</td>\n",
       "      <td>0.053050</td>\n",
       "      <td>0.065138</td>\n",
       "      <td>0.087533</td>\n",
       "      <td>0.077064</td>\n",
       "      <td>0.116711</td>\n",
       "    </tr>\n",
       "    <tr>\n",
       "      <th>2</th>\n",
       "      <td>0.035780</td>\n",
       "      <td>0.061008</td>\n",
       "      <td>0.038532</td>\n",
       "      <td>0.061008</td>\n",
       "      <td>0.051376</td>\n",
       "      <td>0.082228</td>\n",
       "    </tr>\n",
       "    <tr>\n",
       "      <th>3</th>\n",
       "      <td>0.018349</td>\n",
       "      <td>0.045093</td>\n",
       "      <td>0.027523</td>\n",
       "      <td>0.045093</td>\n",
       "      <td>0.034862</td>\n",
       "      <td>0.061008</td>\n",
       "    </tr>\n",
       "    <tr>\n",
       "      <th>4</th>\n",
       "      <td>0.016514</td>\n",
       "      <td>0.045093</td>\n",
       "      <td>0.022936</td>\n",
       "      <td>0.045093</td>\n",
       "      <td>0.031193</td>\n",
       "      <td>0.050398</td>\n",
       "    </tr>\n",
       "  </tbody>\n",
       "</table>\n",
       "</div>"
      ],
      "text/plain": [
       "        (perceptron, training_error)  (perceptron, test_error)  \\\n",
       "passes                                                           \n",
       "1                           0.038532                  0.053050   \n",
       "2                           0.035780                  0.061008   \n",
       "3                           0.018349                  0.045093   \n",
       "4                           0.016514                  0.045093   \n",
       "\n",
       "        (voted, training_error)  (voted, test_error)  \\\n",
       "passes                                                 \n",
       "1                      0.065138             0.087533   \n",
       "2                      0.038532             0.061008   \n",
       "3                      0.027523             0.045093   \n",
       "4                      0.022936             0.045093   \n",
       "\n",
       "        (average, training_error)  (average, test_error)  \n",
       "passes                                                    \n",
       "1                        0.077064               0.116711  \n",
       "2                        0.051376               0.082228  \n",
       "3                        0.034862               0.061008  \n",
       "4                        0.031193               0.050398  "
      ]
     },
     "execution_count": 7,
     "metadata": {},
     "output_type": "execute_result"
    }
   ],
   "source": [
    "output"
   ]
  },
  {
   "cell_type": "markdown",
   "metadata": {},
   "source": [
    "# Question 2"
   ]
  },
  {
   "cell_type": "code",
   "execution_count": 8,
   "metadata": {},
   "outputs": [],
   "source": [
    "clf = Perceptron(3, 'average')"
   ]
  },
  {
   "cell_type": "code",
   "execution_count": 9,
   "metadata": {},
   "outputs": [],
   "source": [
    "clf.fit(X_train_1_2, y_train_1_2)"
   ]
  },
  {
   "cell_type": "code",
   "execution_count": 10,
   "metadata": {},
   "outputs": [],
   "source": [
    "w_avg = np.zeros_like(X_train.iloc[0])\n",
    "for i in range(len(clf.w)):\n",
    "    w,c = clf.w[i]\n",
    "    w_avg+=c*w\n",
    "w_avg = w_avg.to_frame().reset_index()\n",
    "w_avg.columns = ['word', 'value']\n",
    "w_avg.index.name = 'index'"
   ]
  },
  {
   "cell_type": "code",
   "execution_count": 12,
   "metadata": {},
   "outputs": [
    {
     "name": "stdout",
     "output_type": "stream",
     "text": [
      "words with highest coordinates\n"
     ]
    },
    {
     "data": {
      "text/html": [
       "<div>\n",
       "<style scoped>\n",
       "    .dataframe tbody tr th:only-of-type {\n",
       "        vertical-align: middle;\n",
       "    }\n",
       "\n",
       "    .dataframe tbody tr th {\n",
       "        vertical-align: top;\n",
       "    }\n",
       "\n",
       "    .dataframe thead th {\n",
       "        text-align: right;\n",
       "    }\n",
       "</style>\n",
       "<table border=\"1\" class=\"dataframe\">\n",
       "  <thead>\n",
       "    <tr style=\"text-align: right;\">\n",
       "      <th></th>\n",
       "      <th>word</th>\n",
       "      <th>value</th>\n",
       "    </tr>\n",
       "    <tr>\n",
       "      <th>index</th>\n",
       "      <th></th>\n",
       "      <th></th>\n",
       "    </tr>\n",
       "  </thead>\n",
       "  <tbody>\n",
       "    <tr>\n",
       "      <th>438</th>\n",
       "      <td>file</td>\n",
       "      <td>391671.0</td>\n",
       "    </tr>\n",
       "    <tr>\n",
       "      <th>466</th>\n",
       "      <td>program</td>\n",
       "      <td>238641.0</td>\n",
       "    </tr>\n",
       "    <tr>\n",
       "      <th>203</th>\n",
       "      <td>line</td>\n",
       "      <td>144297.0</td>\n",
       "    </tr>\n",
       "  </tbody>\n",
       "</table>\n",
       "</div>"
      ],
      "text/plain": [
       "           word     value\n",
       "index                    \n",
       "438       file   391671.0\n",
       "466    program   238641.0\n",
       "203       line   144297.0"
      ]
     },
     "metadata": {},
     "output_type": "display_data"
    },
    {
     "name": "stdout",
     "output_type": "stream",
     "text": [
      "words with lowest coordinates\n"
     ]
    },
    {
     "data": {
      "text/html": [
       "<div>\n",
       "<style scoped>\n",
       "    .dataframe tbody tr th:only-of-type {\n",
       "        vertical-align: middle;\n",
       "    }\n",
       "\n",
       "    .dataframe tbody tr th {\n",
       "        vertical-align: top;\n",
       "    }\n",
       "\n",
       "    .dataframe thead th {\n",
       "        text-align: right;\n",
       "    }\n",
       "</style>\n",
       "<table border=\"1\" class=\"dataframe\">\n",
       "  <thead>\n",
       "    <tr style=\"text-align: right;\">\n",
       "      <th></th>\n",
       "      <th>word</th>\n",
       "      <th>value</th>\n",
       "    </tr>\n",
       "    <tr>\n",
       "      <th>index</th>\n",
       "      <th></th>\n",
       "      <th></th>\n",
       "    </tr>\n",
       "  </thead>\n",
       "  <tbody>\n",
       "    <tr>\n",
       "      <th>78</th>\n",
       "      <td>he</td>\n",
       "      <td>-228772.0</td>\n",
       "    </tr>\n",
       "    <tr>\n",
       "      <th>469</th>\n",
       "      <td>team</td>\n",
       "      <td>-124122.0</td>\n",
       "    </tr>\n",
       "    <tr>\n",
       "      <th>393</th>\n",
       "      <td>game</td>\n",
       "      <td>-115906.0</td>\n",
       "    </tr>\n",
       "  </tbody>\n",
       "</table>\n",
       "</div>"
      ],
      "text/plain": [
       "        word     value\n",
       "index                 \n",
       "78       he  -228772.0\n",
       "469    team  -124122.0\n",
       "393    game  -115906.0"
      ]
     },
     "metadata": {},
     "output_type": "display_data"
    }
   ],
   "source": [
    "# highest three\n",
    "print('words with highest coordinates')\n",
    "display(w_avg.sort_values(by = 'value', ascending = False)[:3])\n",
    "\n",
    "# lowest three\n",
    "print('words with lowest coordinates')\n",
    "display(w_avg.sort_values(by = 'value')[:3])"
   ]
  },
  {
   "cell_type": "code",
   "execution_count": 13,
   "metadata": {},
   "outputs": [
    {
     "data": {
      "text/plain": [
       "[1.0, 2.0]"
      ]
     },
     "execution_count": 13,
     "metadata": {},
     "output_type": "execute_result"
    }
   ],
   "source": [
    "clf.classes"
   ]
  },
  {
   "cell_type": "markdown",
   "metadata": {},
   "source": [
    "# Question 3"
   ]
  },
  {
   "cell_type": "code",
   "execution_count": 60,
   "metadata": {},
   "outputs": [],
   "source": [
    "C_list = []\n",
    "for i in range(1,7):\n",
    "    y = y_train.apply(lambda x: x if x == i else 99)\n",
    "    clf = Perceptron(1, 'perceptron')\n",
    "    clf.fit(X_train,y)\n",
    "    C_list += [clf]"
   ]
  },
  {
   "cell_type": "code",
   "execution_count": null,
   "metadata": {},
   "outputs": [],
   "source": []
  },
  {
   "cell_type": "code",
   "execution_count": 73,
   "metadata": {},
   "outputs": [],
   "source": [
    "pred = np.zeros([y_test.shape[0], 6])\n",
    "counter = 0\n",
    "for i in C_list:\n",
    "    pred[:,counter] = i.predict(X_test)\n",
    "    counter += 1\n",
    "np.place(pred, pred == 99, 0)"
   ]
  },
  {
   "cell_type": "code",
   "execution_count": 86,
   "metadata": {},
   "outputs": [],
   "source": [
    "prediction = pd.DataFrame(pred).apply(lambda x: max(np.unique(x)) if len(np.unique(x)) == 2 else \"Don't Know\", axis = 1)"
   ]
  },
  {
   "cell_type": "code",
   "execution_count": 92,
   "metadata": {},
   "outputs": [],
   "source": []
  },
  {
   "cell_type": "code",
   "execution_count": 103,
   "metadata": {},
   "outputs": [],
   "source": [
    "def confusion_matrix(y,predicted):\n",
    "    df = pd.DataFrame({\n",
    "    'predicted':prediction,\n",
    "    'actual': y_test\n",
    "    })\n",
    "    \n",
    "    return df.groupby('actual')['predicted'].value_counts(normalize = True).unstack().T.fillna(0)"
   ]
  },
  {
   "cell_type": "code",
   "execution_count": 105,
   "metadata": {},
   "outputs": [
    {
     "data": {
      "text/html": [
       "<div>\n",
       "<style scoped>\n",
       "    .dataframe tbody tr th:only-of-type {\n",
       "        vertical-align: middle;\n",
       "    }\n",
       "\n",
       "    .dataframe tbody tr th {\n",
       "        vertical-align: top;\n",
       "    }\n",
       "\n",
       "    .dataframe thead th {\n",
       "        text-align: right;\n",
       "    }\n",
       "</style>\n",
       "<table border=\"1\" class=\"dataframe\">\n",
       "  <thead>\n",
       "    <tr style=\"text-align: right;\">\n",
       "      <th>actual</th>\n",
       "      <th>1.0</th>\n",
       "      <th>2.0</th>\n",
       "      <th>3.0</th>\n",
       "      <th>4.0</th>\n",
       "      <th>5.0</th>\n",
       "      <th>6.0</th>\n",
       "    </tr>\n",
       "    <tr>\n",
       "      <th>predicted</th>\n",
       "      <th></th>\n",
       "      <th></th>\n",
       "      <th></th>\n",
       "      <th></th>\n",
       "      <th></th>\n",
       "      <th></th>\n",
       "    </tr>\n",
       "  </thead>\n",
       "  <tbody>\n",
       "    <tr>\n",
       "      <th>1.0</th>\n",
       "      <td>0.718919</td>\n",
       "      <td>0.010417</td>\n",
       "      <td>0.034286</td>\n",
       "      <td>0.021739</td>\n",
       "      <td>0.000000</td>\n",
       "      <td>0.000000</td>\n",
       "    </tr>\n",
       "    <tr>\n",
       "      <th>2.0</th>\n",
       "      <td>0.010811</td>\n",
       "      <td>0.656250</td>\n",
       "      <td>0.034286</td>\n",
       "      <td>0.027174</td>\n",
       "      <td>0.012821</td>\n",
       "      <td>0.018519</td>\n",
       "    </tr>\n",
       "    <tr>\n",
       "      <th>3.0</th>\n",
       "      <td>0.000000</td>\n",
       "      <td>0.015625</td>\n",
       "      <td>0.371429</td>\n",
       "      <td>0.000000</td>\n",
       "      <td>0.000000</td>\n",
       "      <td>0.027778</td>\n",
       "    </tr>\n",
       "    <tr>\n",
       "      <th>4.0</th>\n",
       "      <td>0.016216</td>\n",
       "      <td>0.005208</td>\n",
       "      <td>0.000000</td>\n",
       "      <td>0.684783</td>\n",
       "      <td>0.000000</td>\n",
       "      <td>0.000000</td>\n",
       "    </tr>\n",
       "    <tr>\n",
       "      <th>5.0</th>\n",
       "      <td>0.016216</td>\n",
       "      <td>0.031250</td>\n",
       "      <td>0.074286</td>\n",
       "      <td>0.005435</td>\n",
       "      <td>0.801282</td>\n",
       "      <td>0.120370</td>\n",
       "    </tr>\n",
       "    <tr>\n",
       "      <th>6.0</th>\n",
       "      <td>0.005405</td>\n",
       "      <td>0.010417</td>\n",
       "      <td>0.034286</td>\n",
       "      <td>0.000000</td>\n",
       "      <td>0.070513</td>\n",
       "      <td>0.500000</td>\n",
       "    </tr>\n",
       "    <tr>\n",
       "      <th>Don't Know</th>\n",
       "      <td>0.232432</td>\n",
       "      <td>0.270833</td>\n",
       "      <td>0.451429</td>\n",
       "      <td>0.260870</td>\n",
       "      <td>0.115385</td>\n",
       "      <td>0.333333</td>\n",
       "    </tr>\n",
       "  </tbody>\n",
       "</table>\n",
       "</div>"
      ],
      "text/plain": [
       "actual           1.0       2.0       3.0       4.0       5.0       6.0\n",
       "predicted                                                             \n",
       "1.0         0.718919  0.010417  0.034286  0.021739  0.000000  0.000000\n",
       "2.0         0.010811  0.656250  0.034286  0.027174  0.012821  0.018519\n",
       "3.0         0.000000  0.015625  0.371429  0.000000  0.000000  0.027778\n",
       "4.0         0.016216  0.005208  0.000000  0.684783  0.000000  0.000000\n",
       "5.0         0.016216  0.031250  0.074286  0.005435  0.801282  0.120370\n",
       "6.0         0.005405  0.010417  0.034286  0.000000  0.070513  0.500000\n",
       "Don't Know  0.232432  0.270833  0.451429  0.260870  0.115385  0.333333"
      ]
     },
     "metadata": {},
     "output_type": "display_data"
    }
   ],
   "source": [
    "confused_train = confusion_matrix(y_train,prediction)\n",
    "display(confused_train)"
   ]
  },
  {
   "cell_type": "markdown",
   "metadata": {},
   "source": [
    "- a. Based on the confusion matrix above, the perceptron classifier has the highest accuracy for the testing set is class 5"
   ]
  },
  {
   "cell_type": "markdown",
   "metadata": {},
   "source": [
    "- b. The perceptron classifier has the least accuracy for the testing set is class 3"
   ]
  },
  {
   "cell_type": "markdown",
   "metadata": {},
   "source": [
    "- c. The classes that perceptron often mistakely classfies is in class 6 as 5"
   ]
  }
 ],
 "metadata": {
  "kernelspec": {
   "display_name": "Python 3",
   "language": "python",
   "name": "python3"
  },
  "language_info": {
   "codemirror_mode": {
    "name": "ipython",
    "version": 3
   },
   "file_extension": ".py",
   "mimetype": "text/x-python",
   "name": "python",
   "nbconvert_exporter": "python",
   "pygments_lexer": "ipython3",
   "version": "3.7.3"
  }
 },
 "nbformat": 4,
 "nbformat_minor": 2
}
