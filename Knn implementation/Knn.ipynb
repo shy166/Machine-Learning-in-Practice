{
 "cells": [
  {
   "cell_type": "code",
   "execution_count": 1,
   "metadata": {},
   "outputs": [],
   "source": [
    "import numpy as np\n",
    "import pandas as pd\n",
    "from scipy.spatial.distance import cdist\n",
    "from sklearn.neighbors import KDTree\n",
    "from scipy.stats import mode\n",
    "from scipy.stats import rankdata"
   ]
  },
  {
   "cell_type": "markdown",
   "metadata": {},
   "source": [
    "# Question 1"
   ]
  },
  {
   "cell_type": "markdown",
   "metadata": {},
   "source": [
    "## 1.1"
   ]
  },
  {
   "cell_type": "code",
   "execution_count": 2,
   "metadata": {},
   "outputs": [],
   "source": [
    "train = np.loadtxt('pa1train.txt', encoding = 'ascii')"
   ]
  },
  {
   "cell_type": "code",
   "execution_count": 3,
   "metadata": {},
   "outputs": [],
   "source": [
    "test = np.loadtxt('pa1test.txt', encoding = 'ascii')"
   ]
  },
  {
   "cell_type": "code",
   "execution_count": 4,
   "metadata": {},
   "outputs": [],
   "source": [
    "validate = np.loadtxt('pa1validate.txt', encoding = 'ascii')"
   ]
  },
  {
   "cell_type": "code",
   "execution_count": 5,
   "metadata": {},
   "outputs": [
    {
     "name": "stdout",
     "output_type": "stream",
     "text": [
      "(2000, 785)\n",
      "(1000, 785)\n",
      "(1000, 785)\n"
     ]
    }
   ],
   "source": [
    "print(train.shape)\n",
    "print(test.shape)\n",
    "print(validate.shape)"
   ]
  },
  {
   "cell_type": "code",
   "execution_count": 6,
   "metadata": {},
   "outputs": [],
   "source": [
    "# splite the data set into X and y: X as feature, y as target.\n",
    "X_train = train[:, :-1]\n",
    "y_train = train[:, -1]\n",
    "X_test = test[:,:-1]\n",
    "y_test = test[:,-1]\n",
    "X_valid = validate[:, :-1]\n",
    "y_valid = validate[:,-1]"
   ]
  },
  {
   "cell_type": "code",
   "execution_count": 10,
   "metadata": {},
   "outputs": [],
   "source": [
    "def knn_classifier(X_train, y_train, X_test, y_test, k):\n",
    "    '''get the accuracy error rate with training set and testing set\n",
    "    '''\n",
    "    distance_mat = cdist(X_train, X_test) #Get the distance of two pair of matrix\n",
    "    ind = np.argpartition(distance_mat, k, axis=0)[:k] #Get kth largest neighbors index in vector form\n",
    "    prediction = np.concatenate(mode(y_train[ind].astype(int), axis = 0)[0])  #Get prediction from y_train\n",
    "    return 1 - (prediction == y_test).sum()/len(y_test)  #Calculate error rate"
   ]
  },
  {
   "cell_type": "code",
   "execution_count": 11,
   "metadata": {},
   "outputs": [],
   "source": [
    "#KDTree VERSION\n",
    "# def knn_classifier(X_train, y_train, X_test, y_test, n):\n",
    "#     '''get the accuracy error rate with training set and testing set\n",
    "#     '''\n",
    "#     tree = KDTree(X_train) # initialize a kdtree with training set\n",
    "#     ind = tree.query(X_test, k = n)[1] # get the index of the nearest k points' indecies\n",
    "#     prediction = np.concatenate(mode(y_train[ind].astype(int), axis = 1)[0]) \n",
    "#     #get prediction set by taking the most frequent element\n",
    "#     return 1 - (prediction == y_test).sum()/len(y_test) # calculating training error"
   ]
  },
  {
   "cell_type": "code",
   "execution_count": 12,
   "metadata": {},
   "outputs": [
    {
     "data": {
      "text/plain": [
       "0.04349999999999998"
      ]
     },
     "execution_count": 12,
     "metadata": {},
     "output_type": "execute_result"
    }
   ],
   "source": [
    "knn_classifier(X_train, y_train, X_train, y_train, 3) # with 3nn classfier training error is"
   ]
  },
  {
   "cell_type": "code",
   "execution_count": 13,
   "metadata": {},
   "outputs": [],
   "source": [
    "train_err = []\n",
    "valid_err = []\n",
    "for i in [1,5,9,15]:\n",
    "    train_err += [knn_classifier(X_train, y_train,X_train, y_train, i)]\n",
    "    valid_err += [knn_classifier(X_train, y_train,X_valid, y_valid, i)]"
   ]
  },
  {
   "cell_type": "code",
   "execution_count": 14,
   "metadata": {},
   "outputs": [],
   "source": [
    "output1 = pd.DataFrame(\n",
    "        {\n",
    "            'Training Error': train_err,\n",
    "            'Validation Error': valid_err\n",
    "        }, index = pd.Series([1,5,9,15], name = 'k')\n",
    ")"
   ]
  },
  {
   "cell_type": "code",
   "execution_count": 15,
   "metadata": {},
   "outputs": [
    {
     "data": {
      "text/html": [
       "<div>\n",
       "<style scoped>\n",
       "    .dataframe tbody tr th:only-of-type {\n",
       "        vertical-align: middle;\n",
       "    }\n",
       "\n",
       "    .dataframe tbody tr th {\n",
       "        vertical-align: top;\n",
       "    }\n",
       "\n",
       "    .dataframe thead th {\n",
       "        text-align: right;\n",
       "    }\n",
       "</style>\n",
       "<table border=\"1\" class=\"dataframe\">\n",
       "  <thead>\n",
       "    <tr style=\"text-align: right;\">\n",
       "      <th></th>\n",
       "      <th>Training Error</th>\n",
       "      <th>Validation Error</th>\n",
       "    </tr>\n",
       "    <tr>\n",
       "      <th>k</th>\n",
       "      <th></th>\n",
       "      <th></th>\n",
       "    </tr>\n",
       "  </thead>\n",
       "  <tbody>\n",
       "    <tr>\n",
       "      <th>1</th>\n",
       "      <td>0.0000</td>\n",
       "      <td>0.082</td>\n",
       "    </tr>\n",
       "    <tr>\n",
       "      <th>5</th>\n",
       "      <td>0.0565</td>\n",
       "      <td>0.095</td>\n",
       "    </tr>\n",
       "    <tr>\n",
       "      <th>9</th>\n",
       "      <td>0.0685</td>\n",
       "      <td>0.104</td>\n",
       "    </tr>\n",
       "    <tr>\n",
       "      <th>15</th>\n",
       "      <td>0.0925</td>\n",
       "      <td>0.108</td>\n",
       "    </tr>\n",
       "  </tbody>\n",
       "</table>\n",
       "</div>"
      ],
      "text/plain": [
       "    Training Error  Validation Error\n",
       "k                                   \n",
       "1           0.0000             0.082\n",
       "5           0.0565             0.095\n",
       "9           0.0685             0.104\n",
       "15          0.0925             0.108"
      ]
     },
     "metadata": {},
     "output_type": "display_data"
    }
   ],
   "source": [
    "display(output1)"
   ]
  },
  {
   "cell_type": "markdown",
   "metadata": {},
   "source": [
    "According to the table above, we can see k = 1 works the best classifier of the training data and validation error"
   ]
  },
  {
   "cell_type": "code",
   "execution_count": 16,
   "metadata": {},
   "outputs": [],
   "source": [
    "# computing test error for k = 1"
   ]
  },
  {
   "cell_type": "code",
   "execution_count": 17,
   "metadata": {},
   "outputs": [
    {
     "name": "stdout",
     "output_type": "stream",
     "text": [
      "Test Error for the k = 1 knn classifier is 0.09399999999999997\n"
     ]
    }
   ],
   "source": [
    "print('Test Error for the k = 1 knn classifier is {}'.format(knn_classifier(X_train, y_train, X_test, y_test, 1)))"
   ]
  },
  {
   "cell_type": "markdown",
   "metadata": {},
   "source": [
    "## 1.2"
   ]
  },
  {
   "cell_type": "code",
   "execution_count": 18,
   "metadata": {},
   "outputs": [],
   "source": [
    "projection = np.loadtxt('projection.txt', encoding = 'ascii')"
   ]
  },
  {
   "cell_type": "code",
   "execution_count": 19,
   "metadata": {},
   "outputs": [
    {
     "name": "stdout",
     "output_type": "stream",
     "text": [
      "(784, 20)\n"
     ]
    }
   ],
   "source": [
    "print(projection.shape)"
   ]
  },
  {
   "cell_type": "code",
   "execution_count": 20,
   "metadata": {},
   "outputs": [],
   "source": [
    "X_train_proj = X_train.dot(projection)\n",
    "X_test_proj = X_test.dot(projection)\n",
    "X_valid_proj = X_valid.dot(projection)"
   ]
  },
  {
   "cell_type": "code",
   "execution_count": 21,
   "metadata": {},
   "outputs": [],
   "source": [
    "train_err = []\n",
    "valid_err = []\n",
    "for i in [1,5,9,15]:\n",
    "    train_err += [knn_classifier(X_train_proj, y_train,X_train_proj, y_train, i)]\n",
    "    valid_err += [knn_classifier(X_train_proj, y_train,X_valid_proj, y_valid, i)]"
   ]
  },
  {
   "cell_type": "code",
   "execution_count": 22,
   "metadata": {},
   "outputs": [],
   "source": [
    "output2 = pd.DataFrame(\n",
    "        {\n",
    "            'Training Error': train_err,\n",
    "            'Validation Error': valid_err\n",
    "        }, index = pd.Series([1,5,9,15], name = 'k')\n",
    ")"
   ]
  },
  {
   "cell_type": "code",
   "execution_count": 23,
   "metadata": {},
   "outputs": [
    {
     "data": {
      "text/html": [
       "<div>\n",
       "<style scoped>\n",
       "    .dataframe tbody tr th:only-of-type {\n",
       "        vertical-align: middle;\n",
       "    }\n",
       "\n",
       "    .dataframe tbody tr th {\n",
       "        vertical-align: top;\n",
       "    }\n",
       "\n",
       "    .dataframe thead th {\n",
       "        text-align: right;\n",
       "    }\n",
       "</style>\n",
       "<table border=\"1\" class=\"dataframe\">\n",
       "  <thead>\n",
       "    <tr style=\"text-align: right;\">\n",
       "      <th></th>\n",
       "      <th>Training Error</th>\n",
       "      <th>Validation Error</th>\n",
       "    </tr>\n",
       "    <tr>\n",
       "      <th>k</th>\n",
       "      <th></th>\n",
       "      <th></th>\n",
       "    </tr>\n",
       "  </thead>\n",
       "  <tbody>\n",
       "    <tr>\n",
       "      <th>1</th>\n",
       "      <td>0.0000</td>\n",
       "      <td>0.320</td>\n",
       "    </tr>\n",
       "    <tr>\n",
       "      <th>5</th>\n",
       "      <td>0.1945</td>\n",
       "      <td>0.299</td>\n",
       "    </tr>\n",
       "    <tr>\n",
       "      <th>9</th>\n",
       "      <td>0.2305</td>\n",
       "      <td>0.302</td>\n",
       "    </tr>\n",
       "    <tr>\n",
       "      <th>15</th>\n",
       "      <td>0.2570</td>\n",
       "      <td>0.289</td>\n",
       "    </tr>\n",
       "  </tbody>\n",
       "</table>\n",
       "</div>"
      ],
      "text/plain": [
       "    Training Error  Validation Error\n",
       "k                                   \n",
       "1           0.0000             0.320\n",
       "5           0.1945             0.299\n",
       "9           0.2305             0.302\n",
       "15          0.2570             0.289"
      ]
     },
     "metadata": {},
     "output_type": "display_data"
    }
   ],
   "source": [
    "display(output2)"
   ]
  },
  {
   "cell_type": "markdown",
   "metadata": {},
   "source": [
    "Based on the validation error, the best classifier is 15-NN classifier. "
   ]
  },
  {
   "cell_type": "code",
   "execution_count": 24,
   "metadata": {},
   "outputs": [
    {
     "name": "stdout",
     "output_type": "stream",
     "text": [
      "Test Error for the 15-knn classifier is 0.29600000000000004\n"
     ]
    }
   ],
   "source": [
    "print('Test Error for the 15-knn classifier is {}'.format(knn_classifier(X_train_proj, \\\n",
    "                                                                         y_train, X_test_proj, y_test, 15)))"
   ]
  },
  {
   "cell_type": "code",
   "execution_count": 25,
   "metadata": {},
   "outputs": [
    {
     "name": "stdout",
     "output_type": "stream",
     "text": [
      "After we done project the original data, the accuracy of the prediction was siginicantly reduced.\n",
      "With full dimentioan dataset, the best validation error is 0.08199999999999996\n",
      "Wihile, with 20 dimentional projection dataset, the best validation error is 0.28900000000000003\n"
     ]
    }
   ],
   "source": [
    "print('After we done project the original data, the accuracy of the prediction was siginicantly reduced.')\n",
    "print('With full dimentioan dataset, the best validation error is {}'.format(output1['Validation Error'].min()))\n",
    "print('Wihile, with 20 dimentional projection dataset, the best validation error is {}'.format(output2['Validation Error'].min()))"
   ]
  },
  {
   "cell_type": "code",
   "execution_count": 26,
   "metadata": {},
   "outputs": [
    {
     "name": "stdout",
     "output_type": "stream",
     "text": [
      "the time cost for training and predicting a 15-nn classfier with full dimention training dataset\n",
      "1.99 s ± 11.1 ms per loop (mean ± std. dev. of 7 runs, 1 loop each)\n",
      "the time cost for training and predicting a 15-nn classfier with 20 projected dimention training dataset\n",
      "82.7 ms ± 437 µs per loop (mean ± std. dev. of 7 runs, 10 loops each)\n"
     ]
    }
   ],
   "source": [
    "print('the time cost for training and predicting a 15-nn classfier with full dimention training dataset')\n",
    "%timeit knn_classifier(X_train, y_train, X_test, y_test, 15)\n",
    "print('the time cost for training and predicting a 15-nn classfier with 20 projected dimention training dataset')\n",
    "%timeit knn_classifier(X_train_proj, y_train, X_test_proj, y_test, 15)"
   ]
  },
  {
   "cell_type": "markdown",
   "metadata": {},
   "source": [
    "according to the previous cells, the time cost was significantly imporved by using projection of dataset"
   ]
  },
  {
   "cell_type": "markdown",
   "metadata": {},
   "source": [
    "In conclusion, projection with lower dimention will imporve our time cost with trade off of prediction accuracy."
   ]
  },
  {
   "cell_type": "code",
   "execution_count": null,
   "metadata": {},
   "outputs": [],
   "source": []
  }
 ],
 "metadata": {
  "kernelspec": {
   "display_name": "Python 3",
   "language": "python",
   "name": "python3"
  },
  "language_info": {
   "codemirror_mode": {
    "name": "ipython",
    "version": 3
   },
   "file_extension": ".py",
   "mimetype": "text/x-python",
   "name": "python",
   "nbconvert_exporter": "python",
   "pygments_lexer": "ipython3",
   "version": "3.7.3"
  }
 },
 "nbformat": 4,
 "nbformat_minor": 2
}
